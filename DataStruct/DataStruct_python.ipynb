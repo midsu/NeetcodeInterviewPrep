{
 "cells": [
  {
   "cell_type": "code",
   "execution_count": 1,
   "id": "b0133125",
   "metadata": {},
   "outputs": [],
   "source": [
    "def locate_cards(cards, query):\n",
    "    pass"
   ]
  },
  {
   "cell_type": "code",
   "execution_count": 4,
   "id": "163f0daa",
   "metadata": {},
   "outputs": [],
   "source": [
    "# test case\n",
    "cards = [13, 11, 10, 7, 4, 3, 1, 0]\n",
    "query = 7\n",
    "output = 3"
   ]
  },
  {
   "cell_type": "code",
   "execution_count": 6,
   "id": "0a4c5a74",
   "metadata": {},
   "outputs": [
    {
     "name": "stdout",
     "output_type": "stream",
     "text": [
      "None\n"
     ]
    }
   ],
   "source": [
    "# test\n",
    "result = locate_cards(cards,query)\n",
    "print(result)"
   ]
  },
  {
   "cell_type": "code",
   "execution_count": 7,
   "id": "ac19bfc9",
   "metadata": {},
   "outputs": [
    {
     "data": {
      "text/plain": [
       "False"
      ]
     },
     "execution_count": 7,
     "metadata": {},
     "output_type": "execute_result"
    }
   ],
   "source": [
    "result == output"
   ]
  },
  {
   "cell_type": "code",
   "execution_count": 10,
   "id": "70e0e225",
   "metadata": {},
   "outputs": [],
   "source": [
    "# The above test case can be represented as follows:"
   ]
  },
  {
   "cell_type": "code",
   "execution_count": 9,
   "id": "e7617c9e",
   "metadata": {},
   "outputs": [],
   "source": [
    "test = {\n",
    "    'input' : {\n",
    "        'cards' : [13, 11, 10, 7, 4, 3, 1, 0],\n",
    "        'query' : 7\n",
    "    },\n",
    "    'output' : 3\n",
    "}"
   ]
  },
  {
   "cell_type": "code",
   "execution_count": 11,
   "id": "dcd2045f",
   "metadata": {},
   "outputs": [],
   "source": [
    "# the function can now be tested as follows."
   ]
  },
  {
   "cell_type": "code",
   "execution_count": 12,
   "id": "bf8c51d9",
   "metadata": {},
   "outputs": [
    {
     "data": {
      "text/plain": [
       "False"
      ]
     },
     "execution_count": 12,
     "metadata": {},
     "output_type": "execute_result"
    }
   ],
   "source": [
    "locate_cards(**test['input']) == test['output']"
   ]
  },
  {
   "cell_type": "code",
   "execution_count": 16,
   "id": "d4f0dd3c",
   "metadata": {
    "scrolled": false
   },
   "outputs": [
    {
     "data": {
      "text/plain": [
       "\" \\n\\n '**test' is a way of unpacking the 'input' dictionary and passing \\n its contents as arguments to the function. \\n So, **test['input'] is equivalent to calling \\n locate_cards(cards=[13, 11, 10, 7, 4, 3, 1, 0], query=7)\\n \\n\""
      ]
     },
     "execution_count": 16,
     "metadata": {},
     "output_type": "execute_result"
    }
   ],
   "source": [
    "''' \n",
    "\n",
    " '**test' is a way of unpacking the 'input' dictionary and passing \n",
    " its contents as arguments to the function. \n",
    " So, **test['input'] is equivalent to calling \n",
    " locate_cards(cards=[13, 11, 10, 7, 4, 3, 1, 0], query=7)\n",
    " \n",
    "'''"
   ]
  },
  {
   "cell_type": "code",
   "execution_count": 15,
   "id": "97ccfc69",
   "metadata": {},
   "outputs": [],
   "source": [
    "''' \n",
    "\n",
    "EDGE CASES:\n",
    "1. The number query occur somewhere in the middle of the list cards.\n",
    "2. query is the first element in cards.\n",
    "3. query is the last elememt in cards.\n",
    "4. the list cards contains just one element, which is query.\n",
    "5. the list cards does not contain number query.\n",
    "6. the list cards is empty.\n",
    "7. the list cards contains repeating numbers.\n",
    "8. the number query occus at more than one position in cards.\n",
    "9.(can you think of anymore vriations?)\n",
    "\n",
    "'''"
   ]
  },
  {
   "cell_type": "code",
   "execution_count": 17,
   "id": "28bc6d1d",
   "metadata": {},
   "outputs": [],
   "source": [
    "tests = []"
   ]
  },
  {
   "cell_type": "code",
   "execution_count": 46,
   "id": "63e1af8c",
   "metadata": {},
   "outputs": [],
   "source": [
    "# query occurs in the middle\n",
    "tests.append(test)\n",
    "\n",
    "tests.append({\n",
    "    'input' : {\n",
    "        'cards' : [13, 11, 10, 7, 4, 3, 1, 0],\n",
    "        'query' : 1 \n",
    "    },\n",
    "    'output' : 6\n",
    "})"
   ]
  },
  {
   "cell_type": "code",
   "execution_count": 47,
   "id": "4ac920e8",
   "metadata": {},
   "outputs": [],
   "source": [
    "# query is the first element\n",
    "\n",
    "tests.append({\n",
    "    'input' : {\n",
    "        'cards' : [4, 2, 1, -1],\n",
    "        'query' : 4\n",
    "    },\n",
    "    'output' : 0\n",
    "})"
   ]
  },
  {
   "cell_type": "code",
   "execution_count": 48,
   "id": "49ca3733",
   "metadata": {},
   "outputs": [],
   "source": [
    "# query is the last element\n",
    "tests.append({\n",
    "    'input' : {\n",
    "        'cards' : [3, -1, -9, -12],\n",
    "        'query' : -12\n",
    "    },\n",
    "    'output' : 3\n",
    "})\n"
   ]
  },
  {
   "cell_type": "code",
   "execution_count": 49,
   "id": "844e0053",
   "metadata": {},
   "outputs": [],
   "source": [
    "# cards contains just one element, query\n",
    "tests.append ({\n",
    "    'input' : {\n",
    "        'cards' : [6],\n",
    "        'query' : 6\n",
    "    },\n",
    "    'output' : 0\n",
    "    \n",
    "})"
   ]
  },
  {
   "cell_type": "code",
   "execution_count": 50,
   "id": "ae799702",
   "metadata": {},
   "outputs": [],
   "source": [
    "# We will assume that our function will reutrn -1 in case cards does not contain query"
   ]
  },
  {
   "cell_type": "code",
   "execution_count": 51,
   "id": "063e2c50",
   "metadata": {},
   "outputs": [],
   "source": [
    "# cards does not contains query\n",
    "tests.append ({\n",
    "    'input' : {\n",
    "        'cards' : [9, 7, 5, 2, -9],\n",
    "        'query' : 4\n",
    "    },\n",
    "    'output' : -1\n",
    "    \n",
    "})"
   ]
  },
  {
   "cell_type": "code",
   "execution_count": 52,
   "id": "a6fcafb6",
   "metadata": {},
   "outputs": [],
   "source": [
    "# cards is empty\n",
    "tests.append ({\n",
    "    'input' : {\n",
    "        'cards' : [],\n",
    "        'query' : 7\n",
    "    },\n",
    "    'output' : -1\n",
    "    \n",
    "})"
   ]
  },
  {
   "cell_type": "code",
   "execution_count": 53,
   "id": "00ba2edb",
   "metadata": {},
   "outputs": [],
   "source": [
    "# numbers can repeat in cards \n",
    "tests.append ({\n",
    "    'input' : {\n",
    "        'cards' : [8, 8, 6, 6, 6, 6, 6, 3, 2, 2, 2, 0, 0, 0],\n",
    "        'query' : 3\n",
    "    },\n",
    "    'output' : 7\n",
    "    \n",
    "})"
   ]
  },
  {
   "cell_type": "code",
   "execution_count": 54,
   "id": "e27e0a45",
   "metadata": {},
   "outputs": [],
   "source": [
    "# in the case where query occurs multiple times in cards, \n",
    "# we'll expect our function to return the first occurance of query"
   ]
  },
  {
   "cell_type": "code",
   "execution_count": 55,
   "id": "4968eabd",
   "metadata": {},
   "outputs": [],
   "source": [
    "# query occurs multiple times \n",
    "tests.append ({\n",
    "    'input' : {\n",
    "        'cards' : [8, 8, 6, 6, 6, 6, 6, 3, 2, 2, 2, 0, 0, 0],\n",
    "        'query' : 6\n",
    "    },\n",
    "    'output' : 2\n",
    "    \n",
    "})"
   ]
  },
  {
   "cell_type": "code",
   "execution_count": 56,
   "id": "5e874ba2",
   "metadata": {},
   "outputs": [
    {
     "data": {
      "text/plain": [
       "[{'input': {'cards': [13, 11, 10, 7, 4, 3, 1, 0], 'query': 7}, 'output': 3},\n",
       " {'input': {'cards': [13, 11, 10, 7, 4, 3, 1, 0], 'query': 1}, 'output': 6},\n",
       " {'input': {'cards': [4, 2, 1, -1], 'query': 4}, 'output': 0},\n",
       " {'input': {'cards': [3, -1, -9, -12], 'query': -12}, 'output': 3},\n",
       " {'input': {'cards': [6], 'query': 6}, 'output': 0},\n",
       " {'input': {'cards': [9, 7, 5, 2, -9], 'query': 4}, 'output': -1},\n",
       " {'input': {'cards': [], 'query': 7}, 'output': -1},\n",
       " {'input': {'cards': [8, 8, 6, 6, 6, 6, 6, 3, 2, 2, 2, 0, 0, 0], 'query': 3},\n",
       "  'output': 7},\n",
       " {'input': {'cards': [8, 8, 6, 6, 6, 6, 6, 3, 2, 2, 2, 0, 0, 0], 'query': 6},\n",
       "  'output': 2},\n",
       " {'input': {'cards': [13, 11, 10, 7, 4, 3, 1, 0], 'query': 7}, 'output': 3},\n",
       " {'input': {'cards': [13, 11, 10, 7, 4, 3, 1, 0], 'query': 1}, 'output': 6},\n",
       " {'input': {'cards': [4, 2, 1, -1], 'query': 4}, 'output': 0},\n",
       " {'input': {'cards': [3, -1, -9, -12], 'query': -12}, 'output': 3},\n",
       " {'input': {'cards': [6], 'query': 6}, 'output': 0},\n",
       " {'input': {'cards': [9, 7, 5, 2, -9], 'query': 4}, 'output': -1},\n",
       " {'input': {'cards': [], 'query': 7}, 'output': -1},\n",
       " {'input': {'cards': [8, 8, 6, 6, 6, 6, 6, 3, 2, 2, 2, 0, 0, 0], 'query': 3},\n",
       "  'output': 7},\n",
       " {'input': {'cards': [8, 8, 6, 6, 6, 6, 6, 3, 2, 2, 2, 0, 0, 0], 'query': 6},\n",
       "  'output': 2}]"
      ]
     },
     "execution_count": 56,
     "metadata": {},
     "output_type": "execute_result"
    }
   ],
   "source": [
    "tests"
   ]
  },
  {
   "cell_type": "code",
   "execution_count": 57,
   "id": "cf487db9",
   "metadata": {},
   "outputs": [],
   "source": [
    "def locate_cards(cards,query):\n",
    "    # Create a variable position with the valiue 0\n",
    "    position = 0\n",
    "    \n",
    "    # Set up a loop for repitition \n",
    "    while True:\n",
    "        # Check the element at corrent position math query\n",
    "        if cards[position] == query:\n",
    "            \n",
    "            # Answer found, return and exit\n",
    "            return position\n",
    "        \n",
    "        # Continue checking next position since first one isn't the query\n",
    "        position += 1\n",
    "        \n",
    "        # Check if have reached the end of the cards\n",
    "        if position == len(cards):\n",
    "            \n",
    "            # query not found, so returning -1\n",
    "            return -1\n",
    "        "
   ]
  },
  {
   "cell_type": "code",
   "execution_count": 58,
   "id": "a325f8b5",
   "metadata": {},
   "outputs": [
    {
     "data": {
      "text/plain": [
       "{'input': {'cards': [13, 11, 10, 7, 4, 3, 1, 0], 'query': 7}, 'output': 3}"
      ]
     },
     "execution_count": 58,
     "metadata": {},
     "output_type": "execute_result"
    }
   ],
   "source": [
    "test"
   ]
  },
  {
   "cell_type": "code",
   "execution_count": 59,
   "id": "942c6631",
   "metadata": {
    "scrolled": true
   },
   "outputs": [
    {
     "data": {
      "text/plain": [
       "3"
      ]
     },
     "execution_count": 59,
     "metadata": {},
     "output_type": "execute_result"
    }
   ],
   "source": [
    "result = locate_cards(test['input']['cards'], test['input']['query'])\n",
    "result\n"
   ]
  },
  {
   "cell_type": "code",
   "execution_count": 60,
   "id": "a712f085",
   "metadata": {},
   "outputs": [
    {
     "data": {
      "text/plain": [
       "True"
      ]
     },
     "execution_count": 60,
     "metadata": {},
     "output_type": "execute_result"
    }
   ],
   "source": [
    "result == output"
   ]
  },
  {
   "cell_type": "code",
   "execution_count": 64,
   "id": "14140ab8",
   "metadata": {},
   "outputs": [],
   "source": [
    "def locate_card(cards,query):\n",
    "    \n",
    "    print(\"cards: \", cards)\n",
    "    print(\"query: \", query)\n",
    "    \n",
    "    # Create a variable position with the valiue 0\n",
    "    position = 0\n",
    "    \n",
    "    # Set up a loop for repitition \n",
    "    while True:\n",
    "        print(\"Position: \", position)\n",
    "        \n",
    "        # Check the element at corrent position math query\n",
    "        if cards[position] == query:\n",
    "            \n",
    "            # Answer found, return and exit\n",
    "            return position\n",
    "        \n",
    "        # Continue checking next position since first one isn't the query\n",
    "        position += 1\n",
    "        \n",
    "        # Check if have reached the end of the cards\n",
    "        if position == len(cards):\n",
    "            \n",
    "            # query not found, so returning -1\n",
    "            return -1"
   ]
  },
  {
   "cell_type": "code",
   "execution_count": 66,
   "id": "2a4b8204",
   "metadata": {},
   "outputs": [
    {
     "name": "stdout",
     "output_type": "stream",
     "text": [
      "cards:  []\n",
      "query:  7\n",
      "Position:  0\n"
     ]
    },
    {
     "ename": "IndexError",
     "evalue": "list index out of range",
     "output_type": "error",
     "traceback": [
      "\u001b[0;31m---------------------------------------------------------------------------\u001b[0m",
      "\u001b[0;31mIndexError\u001b[0m                                Traceback (most recent call last)",
      "Cell \u001b[0;32mIn[66], line 4\u001b[0m\n\u001b[1;32m      1\u001b[0m cards6 \u001b[38;5;241m=\u001b[39m tests[\u001b[38;5;241m6\u001b[39m][\u001b[38;5;124m'\u001b[39m\u001b[38;5;124minput\u001b[39m\u001b[38;5;124m'\u001b[39m][\u001b[38;5;124m'\u001b[39m\u001b[38;5;124mcards\u001b[39m\u001b[38;5;124m'\u001b[39m]\n\u001b[1;32m      2\u001b[0m query6 \u001b[38;5;241m=\u001b[39m tests[\u001b[38;5;241m6\u001b[39m][\u001b[38;5;124m'\u001b[39m\u001b[38;5;124minput\u001b[39m\u001b[38;5;124m'\u001b[39m][\u001b[38;5;124m'\u001b[39m\u001b[38;5;124mquery\u001b[39m\u001b[38;5;124m'\u001b[39m]\n\u001b[0;32m----> 4\u001b[0m locate_card(cards6,query6)\n",
      "Cell \u001b[0;32mIn[64], line 14\u001b[0m, in \u001b[0;36mlocate_card\u001b[0;34m(cards, query)\u001b[0m\n\u001b[1;32m     11\u001b[0m \u001b[38;5;28mprint\u001b[39m(\u001b[38;5;124m\"\u001b[39m\u001b[38;5;124mPosition: \u001b[39m\u001b[38;5;124m\"\u001b[39m, position)\n\u001b[1;32m     13\u001b[0m \u001b[38;5;66;03m# Check the element at corrent position math query\u001b[39;00m\n\u001b[0;32m---> 14\u001b[0m \u001b[38;5;28;01mif\u001b[39;00m cards[position] \u001b[38;5;241m==\u001b[39m query:\n\u001b[1;32m     15\u001b[0m     \n\u001b[1;32m     16\u001b[0m     \u001b[38;5;66;03m# Answer found, return and exit\u001b[39;00m\n\u001b[1;32m     17\u001b[0m     \u001b[38;5;28;01mreturn\u001b[39;00m position\n\u001b[1;32m     19\u001b[0m \u001b[38;5;66;03m# Continue checking next position since first one isn't the query\u001b[39;00m\n",
      "\u001b[0;31mIndexError\u001b[0m: list index out of range"
     ]
    }
   ],
   "source": [
    "cards6 = tests[6]['input']['cards']\n",
    "query6 = tests[6]['input']['query']\n",
    "\n",
    "locate_card(cards6,query6)"
   ]
  },
  {
   "cell_type": "code",
   "execution_count": 67,
   "id": "9a5fc1ab",
   "metadata": {},
   "outputs": [],
   "source": [
    "def locate_card(cards, query):\n",
    "    \n",
    "    position = 0\n",
    "    while position < len(cards):\n",
    "        if cards[position] == query:\n",
    "            return position\n",
    "        position += 1\n",
    "        \n",
    "    return -1"
   ]
  },
  {
   "cell_type": "code",
   "execution_count": 68,
   "id": "7de081c6",
   "metadata": {},
   "outputs": [
    {
     "data": {
      "text/plain": [
       "{'input': {'cards': [], 'query': 7}, 'output': -1}"
      ]
     },
     "execution_count": 68,
     "metadata": {},
     "output_type": "execute_result"
    }
   ],
   "source": [
    "tests[6]"
   ]
  },
  {
   "cell_type": "code",
   "execution_count": 69,
   "id": "8e04e336",
   "metadata": {},
   "outputs": [
    {
     "data": {
      "text/plain": [
       "-1"
      ]
     },
     "execution_count": 69,
     "metadata": {},
     "output_type": "execute_result"
    }
   ],
   "source": [
    "locate_card(cards6,query6)"
   ]
  },
  {
   "cell_type": "code",
   "execution_count": 70,
   "id": "d9657994",
   "metadata": {},
   "outputs": [],
   "source": [
    "# as you can see the query does not exist in the cards, therefor we return -1"
   ]
  },
  {
   "cell_type": "code",
   "execution_count": null,
   "id": "c81cc0c3",
   "metadata": {},
   "outputs": [],
   "source": []
  }
 ],
 "metadata": {
  "kernelspec": {
   "display_name": "Python 3.10.6 64-bit",
   "language": "python",
   "name": "python3"
  },
  "language_info": {
   "codemirror_mode": {
    "name": "ipython",
    "version": 3
   },
   "file_extension": ".py",
   "mimetype": "text/x-python",
   "name": "python",
   "nbconvert_exporter": "python",
   "pygments_lexer": "ipython3",
   "version": "3.10.6"
  },
  "vscode": {
   "interpreter": {
    "hash": "aee8b7b246df8f9039afb4144a1f6fd8d2ca17a180786b69acc140d282b71a49"
   }
  }
 },
 "nbformat": 4,
 "nbformat_minor": 5
}
