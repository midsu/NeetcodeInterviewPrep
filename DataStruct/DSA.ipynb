{
 "cells": [
  {
   "cell_type": "markdown",
   "id": "6cc9a1bc",
   "metadata": {},
   "source": [
    "## Python DSA"
   ]
  },
  {
   "cell_type": "markdown",
   "id": "28d2cf41",
   "metadata": {},
   "source": [
    "### • Built in data structure "
   ]
  },
  {
   "cell_type": "markdown",
   "id": "ed7c73c9",
   "metadata": {},
   "source": [
    "#### LIST"
   ]
  },
  {
   "cell_type": "code",
   "execution_count": 1,
   "id": "1cef530d",
   "metadata": {},
   "outputs": [
    {
     "name": "stdout",
     "output_type": "stream",
     "text": [
      "[1, 2, 3, 'GFG', 2.3]\n"
     ]
    }
   ],
   "source": [
    "List = [1, 2,  3, \"GFG\", 2.3]\n",
    "print(List)"
   ]
  },
  {
   "cell_type": "markdown",
   "id": "3e11b2e6",
   "metadata": {},
   "source": [
    "#### Example: Python List Operations"
   ]
  },
  {
   "cell_type": "code",
   "execution_count": 2,
   "id": "7cc1b588",
   "metadata": {},
   "outputs": [
    {
     "name": "stdout",
     "output_type": "stream",
     "text": [
      "\n",
      "List containing multiple values: \n",
      "['Geeks', 'For', 'Geeks']\n",
      "\n",
      "Multi-Dimensional List: \n",
      "[['Geeks', 'For'], ['Geeks']]\n",
      "Accessing element from the list\n",
      "Geeks\n",
      "Geeks\n",
      "Accessing element using negative indexing\n",
      "Geeks\n",
      "Geeks\n"
     ]
    }
   ],
   "source": [
    "# Creating a List with\n",
    "# the use of multiple values\n",
    "List = [\"Geeks\", \"For\", \"Geeks\"]\n",
    "print(\"\\nList containing multiple values: \")\n",
    "print(List)\n",
    " \n",
    "# Creating a Multi-Dimensional List\n",
    "# (By Nesting a list inside a List)\n",
    "List2 = [['Geeks', 'For'], ['Geeks']]\n",
    "print(\"\\nMulti-Dimensional List: \")\n",
    "print(List2)\n",
    " \n",
    "# accessing a element from the \n",
    "# list using index number\n",
    "print(\"Accessing element from the list\")\n",
    "print(List[0]) \n",
    "print(List[2])\n",
    " \n",
    "# accessing a element using\n",
    "# negative indexing\n",
    "print(\"Accessing element using negative indexing\")\n",
    "     \n",
    "# print the last element of list\n",
    "print(List[-1])\n",
    "     \n",
    "# print the third last element of list \n",
    "print(List[-3])"
   ]
  },
  {
   "cell_type": "markdown",
   "id": "35a1367d",
   "metadata": {},
   "source": [
    "#### Dictionarty"
   ]
  },
  {
   "cell_type": "code",
   "execution_count": 3,
   "id": "99948b50",
   "metadata": {},
   "outputs": [
    {
     "name": "stdout",
     "output_type": "stream",
     "text": [
      "Creating Dictionary: \n",
      "{'Name': 'Geeks', 1: [1, 2, 3, 4]}\n",
      "Accessing a element using key:\n",
      "Geeks\n",
      "Accessing a element using get:\n",
      "[1, 2, 3, 4]\n",
      "{1: 1, 2: 4, 3: 9, 4: 16, 5: 25}\n"
     ]
    }
   ],
   "source": [
    "# Creating a Dictionary\n",
    "Dict = {'Name': 'Geeks', 1: [1, 2, 3, 4]}\n",
    "print(\"Creating Dictionary: \")\n",
    "print(Dict)\n",
    " \n",
    "# accessing a element using key\n",
    "print(\"Accessing a element using key:\")\n",
    "print(Dict['Name'])\n",
    " \n",
    "# accessing a element using get()\n",
    "# method\n",
    "print(\"Accessing a element using get:\")\n",
    "print(Dict.get(1))\n",
    " \n",
    "# creation using Dictionary comprehension\n",
    "myDict = {x: x**2 for x in [1,2,3,4,5]}\n",
    "print(myDict)"
   ]
  },
  {
   "cell_type": "markdown",
   "id": "03553a7a",
   "metadata": {},
   "source": [
    "#### TUPLES \n",
    "###### Python Tuple is a collection of Python objects much like a list but Tuples are immutable in nature i.e. the elements in the tuple cannot be added or removed once created. Just like a List, a Tuple can also contain elements of various types.\n",
    "\n",
    "###### In Python, tuples are created by placing a sequence of values separated by ‘comma’ with or without the use of parentheses for grouping of the data sequence."
   ]
  },
  {
   "cell_type": "code",
   "execution_count": 4,
   "id": "d0a80daa",
   "metadata": {},
   "outputs": [
    {
     "name": "stdout",
     "output_type": "stream",
     "text": [
      "\n",
      "Tuple with the use of String: \n",
      "('Geeks', 'For')\n",
      "\n",
      "Tuple using List: \n",
      "First element of tuple\n",
      "1\n",
      "\n",
      "Last element of tuple\n",
      "6\n",
      "\n",
      "Third last element of tuple\n",
      "4\n"
     ]
    }
   ],
   "source": [
    "# Creating a Tuple with\n",
    "# the use of Strings\n",
    "Tuple = ('Geeks', 'For')\n",
    "print(\"\\nTuple with the use of String: \")\n",
    "print(Tuple)\n",
    "     \n",
    "# Creating a Tuple with\n",
    "# the use of list\n",
    "list1 = [1, 2, 4, 5, 6]\n",
    "print(\"\\nTuple using List: \")\n",
    "Tuple = tuple(list1)\n",
    " \n",
    "# Accessing element using indexing\n",
    "print(\"First element of tuple\")\n",
    "print(Tuple[0])\n",
    " \n",
    "# Accessing element from last\n",
    "# negative indexing\n",
    "print(\"\\nLast element of tuple\")\n",
    "print(Tuple[-1])\n",
    "   \n",
    "print(\"\\nThird last element of tuple\")\n",
    "print(Tuple[-3])"
   ]
  },
  {
   "cell_type": "markdown",
   "id": "77313303",
   "metadata": {},
   "source": [
    "#### SET\n",
    "###### Python Set is an unordered collection of data that is mutable and does not allow any duplicate element. Sets are basically used to include membership testing and eliminating duplicate entries."
   ]
  },
  {
   "cell_type": "code",
   "execution_count": 5,
   "id": "c57f2f44",
   "metadata": {},
   "outputs": [
    {
     "name": "stdout",
     "output_type": "stream",
     "text": [
      "\n",
      "Set with the use of Mixed Values\n",
      "{1, 2, 4, 6, 'For', 'Geeks'}\n",
      "\n",
      "Elements of set: \n",
      "1 2 4 6 For Geeks \n",
      "True\n"
     ]
    }
   ],
   "source": [
    "# Creating a Set with \n",
    "# a mixed type of values\n",
    "# (Having numbers and strings)\n",
    "Set = set([1, 2, 'Geeks', 4, 'For', 6, 'Geeks'])\n",
    "print(\"\\nSet with the use of Mixed Values\")\n",
    "print(Set)\n",
    " \n",
    "# Accessing element using\n",
    "# for loop\n",
    "print(\"\\nElements of set: \")\n",
    "for i in Set:\n",
    "    print(i, end =\" \")\n",
    "print()\n",
    " \n",
    "# Checking the element\n",
    "# using in keyword\n",
    "print(\"Geeks\" in Set)"
   ]
  },
  {
   "cell_type": "markdown",
   "id": "96d5569b",
   "metadata": {},
   "source": [
    "#### FROZENSET\n",
    "###### Frozen sets in Python are immutable objects that only support methods and operators that produce a result without affecting the frozen set or sets to which they are applied. While elements of a set can be modified at any time, elements of the frozen set remain the same after creation.\n",
    "\n",
    "###### If no parameters are passed, it returns an empty frozenset"
   ]
  },
  {
   "cell_type": "code",
   "execution_count": 6,
   "id": "1e19e981",
   "metadata": {},
   "outputs": [
    {
     "name": "stdout",
     "output_type": "stream",
     "text": [
      "Normal Set\n",
      "{'c', 'a', 'b'}\n",
      "\n",
      "Frozen Set\n",
      "frozenset({'f', 'e', 'g'})\n"
     ]
    }
   ],
   "source": [
    "# Same as {\"a\", \"b\",\"c\"}\n",
    "normal_set = set([\"a\", \"b\",\"c\"])\n",
    " \n",
    "print(\"Normal Set\")\n",
    "print(normal_set)\n",
    " \n",
    "# A frozen set\n",
    "frozen_set = frozenset([\"e\", \"f\", \"g\"])\n",
    " \n",
    "print(\"\\nFrozen Set\")\n",
    "print(frozen_set)\n",
    " \n",
    "# Uncommenting below line would cause error as\n",
    "# we are trying to add element to a frozen set\n",
    "# frozen_set.add(\"h\")"
   ]
  },
  {
   "cell_type": "markdown",
   "id": "02d1f36c",
   "metadata": {},
   "source": [
    "#### STRING"
   ]
  },
  {
   "cell_type": "code",
   "execution_count": 7,
   "id": "d78ccd60",
   "metadata": {},
   "outputs": [
    {
     "name": "stdout",
     "output_type": "stream",
     "text": [
      "Creating String: \n",
      "Welcome to GeeksForGeeks\n",
      "\n",
      "First character of String is: \n",
      "W\n",
      "\n",
      "Last character of String is: \n",
      "s\n"
     ]
    }
   ],
   "source": [
    "String = \"Welcome to GeeksForGeeks\"\n",
    "print(\"Creating String: \")\n",
    "print(String)\n",
    "     \n",
    "# Printing First character\n",
    "print(\"\\nFirst character of String is: \")\n",
    "print(String[0])\n",
    "     \n",
    "# Printing Last character\n",
    "print(\"\\nLast character of String is: \")\n",
    "print(String[-1])"
   ]
  },
  {
   "cell_type": "markdown",
   "id": "e420c51c",
   "metadata": {},
   "source": [
    "### Collections Module\n",
    "###### Python collection module was introduced to improve the functionality of the built in datatypes. It provides various containers let’s see each one of them in detail.\n",
    "\n",
    "#### Counters\n",
    "###### A counter is a sub-class of the dictionary. It is used to keep the count of the elements in an iterable in the form of an unordered dictionary where the key represents the element in the iterable and value represents the count of that element in the iterable."
   ]
  },
  {
   "cell_type": "code",
   "execution_count": 9,
   "id": "cc8d3045",
   "metadata": {},
   "outputs": [
    {
     "name": "stdout",
     "output_type": "stream",
     "text": [
      "Counter({'B': 5, 'A': 3, 'C': 2})\n",
      "Counter({'B': 5, 'A': 3, 'C': 2})\n",
      "Counter({'B': 5, 'A': 4, 'C': 2, 1: 1})\n"
     ]
    }
   ],
   "source": [
    "from collections import Counter\n",
    "   \n",
    "# With sequence of items\n",
    "print(Counter(['B','B','A','B','C','A','B','B','A','C']))\n",
    "   \n",
    "# with dictionary\n",
    "count = Counter({'A':3, 'B':5, 'C':2})\n",
    "print(count)\n",
    " \n",
    "count.update(['A', 1])\n",
    "print(count)"
   ]
  },
  {
   "cell_type": "markdown",
   "id": "79639780",
   "metadata": {},
   "source": [
    "#### OrderedDict"
   ]
  },
  {
   "cell_type": "code",
   "execution_count": 11,
   "id": "0f5d9532",
   "metadata": {},
   "outputs": [
    {
     "name": "stdout",
     "output_type": "stream",
     "text": [
      "Before deleting:\n",
      "\n",
      "a 1\n",
      "b 2\n",
      "c 3\n",
      "d 4\n",
      "\n",
      "After deleting:\n",
      "\n",
      "a 1\n",
      "b 2\n",
      "d 4\n",
      "\n",
      "After re-inserting:\n",
      "\n",
      "a 1\n",
      "b 2\n",
      "d 4\n",
      "c 3\n"
     ]
    }
   ],
   "source": [
    "from collections import OrderedDict\n",
    " \n",
    "print(\"Before deleting:\\n\")\n",
    "od = OrderedDict()\n",
    "od['a'] = 1\n",
    "od['b'] = 2\n",
    "od['c'] = 3\n",
    "od['d'] = 4\n",
    " \n",
    "for key, value in od.items():\n",
    "    print(key, value)\n",
    " \n",
    "print(\"\\nAfter deleting:\\n\")\n",
    "od.pop('c')\n",
    "for key, value in od.items():\n",
    "    print(key, value)\n",
    " \n",
    "print(\"\\nAfter re-inserting:\\n\")\n",
    "od['c'] = 3\n",
    "for key, value in od.items():\n",
    "    print(key, value)"
   ]
  },
  {
   "cell_type": "markdown",
   "id": "f62808c8",
   "metadata": {},
   "source": [
    "#### DefaultDict"
   ]
  },
  {
   "cell_type": "markdown",
   "id": "3e9bdba2",
   "metadata": {},
   "source": [
    "###### DefaultDict is used to provide some default values for the key that does not exist and never raises a KeyError. Its objects can be initialized using DefaultDict() method by passing the data type as an argument"
   ]
  },
  {
   "cell_type": "code",
   "execution_count": 12,
   "id": "6046527e",
   "metadata": {},
   "outputs": [
    {
     "name": "stdout",
     "output_type": "stream",
     "text": [
      "defaultdict(<class 'int'>, {1: 2, 2: 3, 3: 1, 4: 2})\n"
     ]
    }
   ],
   "source": [
    "from collections import defaultdict\n",
    "     \n",
    " \n",
    "# Defining the dict\n",
    "d = defaultdict(int)\n",
    "     \n",
    "L = [1, 2, 3, 4, 2, 4, 1, 2]\n",
    "     \n",
    "# Iterate through the list\n",
    "# for keeping the count\n",
    "for i in L:\n",
    "         \n",
    "    # The default value is 0\n",
    "    # so there is no need to\n",
    "    # enter the key first\n",
    "    d[i] += 1\n",
    "         \n",
    "print(d)"
   ]
  },
  {
   "cell_type": "markdown",
   "id": "3f2ef255",
   "metadata": {},
   "source": [
    "#### ChainMap\n",
    "###### A ChainMap encapsulates many dictionaries into a single unit and returns a list of dictionaries. When a key is needed to be found then all the dictionaries are searched one by one until the key is found"
   ]
  },
  {
   "cell_type": "code",
   "execution_count": 15,
   "id": "8994607a",
   "metadata": {},
   "outputs": [
    {
     "name": "stdout",
     "output_type": "stream",
     "text": [
      "ChainMap({'a': 1, 'b': 2}, {'c': 3, 'd': 4}, {'e': 5, 'f': 6})\n",
      "c['a'] found:  1\n",
      "c['f'] found:  6\n"
     ]
    }
   ],
   "source": [
    "from collections import ChainMap\n",
    "     \n",
    "     \n",
    "d1 = {'a': 1, 'b': 2}\n",
    "d2 = {'c': 3, 'd': 4}\n",
    "d3 = {'e': 5, 'f': 6}\n",
    "     \n",
    "# Defining the chainmap\n",
    "c = ChainMap(d1, d2, d3)\n",
    "print(c)\n",
    " \n",
    "print(\"c['a'] found: \",c['a'])\n",
    "print(\"c['f'] found: \",c['f'])"
   ]
  },
  {
   "cell_type": "markdown",
   "id": "8c10c291",
   "metadata": {},
   "source": [
    "#### NamedTuple\n",
    "###### A NamedTuple returns a tuple object with names for each position which the ordinary tuples lack. For example, consider a tuple names student where the first element represents fname, second represents lname and the third element represents the DOB. Suppose for calling fname instead of remembering the index position you can actually call the element by using the fname argument, then it will be really easy for accessing tuples element. This functionality is provided by the NamedTuple"
   ]
  },
  {
   "cell_type": "code",
   "execution_count": 16,
   "id": "6196667c",
   "metadata": {},
   "outputs": [
    {
     "name": "stdout",
     "output_type": "stream",
     "text": [
      "The Student age using index is : 19\n",
      "The Student name using keyname is : Nandini\n"
     ]
    }
   ],
   "source": [
    "from collections import namedtuple\n",
    "     \n",
    "# Declaring namedtuple()\n",
    "Student = namedtuple('Student',['name','age','DOB'])\n",
    "     \n",
    "# Adding values\n",
    "S = Student('Nandini','19','2541997')\n",
    "     \n",
    "# Access using index\n",
    "print (\"The Student age using index is : \",end =\"\")\n",
    "print (S[1])\n",
    "     \n",
    "# Access using name\n",
    "print (\"The Student name using keyname is : \",end =\"\")\n",
    "print (S.name)"
   ]
  },
  {
   "cell_type": "markdown",
   "id": "a379f1c9",
   "metadata": {},
   "source": [
    "#### Deque\n",
    "###### Deque (Doubly Ended Queue) is the optimized list for quicker append and pop operations from both sides of the container. It provides O(1) time complexity for append and pop operations as compared to the list with O(n) time complexity.\n",
    "\n",
    "###### Python Deque is implemented using doubly linked lists therefore the performance for randomly accessing the elements is O(n)"
   ]
  },
  {
   "cell_type": "code",
   "execution_count": 17,
   "id": "075c8747",
   "metadata": {},
   "outputs": [
    {
     "name": "stdout",
     "output_type": "stream",
     "text": [
      "The deque after appending at right is : \n",
      "deque([1, 2, 3, 4])\n",
      "The deque after appending at left is : \n",
      "deque([6, 1, 2, 3, 4])\n",
      "The deque after deleting from right is : \n",
      "deque([6, 1, 2, 3])\n",
      "The deque after deleting from left is : \n",
      "deque([1, 2, 3])\n"
     ]
    }
   ],
   "source": [
    "\n",
    "# importing \"collections\" for deque operations\n",
    "import collections\n",
    " \n",
    "# initializing deque\n",
    "de = collections.deque([1,2,3])\n",
    " \n",
    "# using append() to insert element at right end\n",
    "# inserts 4 at the end of deque\n",
    "de.append(4)\n",
    " \n",
    "# printing modified deque\n",
    "print(\"The deque after appending at right is : \")\n",
    "print(de)\n",
    " \n",
    "# using appendleft() to insert element at left end\n",
    "# inserts 6 at the beginning of deque\n",
    "de.appendleft(6)\n",
    " \n",
    "# printing modified deque\n",
    "print(\"The deque after appending at left is : \")\n",
    "print(de)\n",
    " \n",
    "# using pop() to delete element from right end\n",
    "# deletes 4 from the right end of deque\n",
    "de.pop()\n",
    " \n",
    "# printing modified deque\n",
    "print(\"The deque after deleting from right is : \")\n",
    "print(de)\n",
    " \n",
    "# using popleft() to delete element from left end\n",
    "# deletes 6 from the left end of deque\n",
    "de.popleft()\n",
    " \n",
    "# printing modified deque\n",
    "print(\"The deque after deleting from left is : \")\n",
    "print(de)\n",
    "\n",
    "\n"
   ]
  },
  {
   "cell_type": "markdown",
   "id": "1e49bb37",
   "metadata": {},
   "source": [
    "#### UserDict (Customize Dictionary)\n",
    "###### UserDict is a dictionary-like container that acts as a wrapper around the dictionary objects. This container is used when someone wants to create their own dictionary with some modified or new functionality"
   ]
  },
  {
   "cell_type": "code",
   "execution_count": 19,
   "id": "ab8c83be",
   "metadata": {},
   "outputs": [
    {
     "name": "stdout",
     "output_type": "stream",
     "text": [
      "Original Dictionary\n",
      "{'a': 1, 'b': 2, 'c': 3}\n"
     ]
    },
    {
     "ename": "RuntimeError",
     "evalue": "Deletion not allowed",
     "output_type": "error",
     "traceback": [
      "\u001b[0;31m---------------------------------------------------------------------------\u001b[0m",
      "\u001b[0;31mRuntimeError\u001b[0m                              Traceback (most recent call last)",
      "Cell \u001b[0;32mIn[19], line 32\u001b[0m\n\u001b[1;32m     29\u001b[0m \u001b[38;5;28mprint\u001b[39m(\u001b[38;5;124m\"\u001b[39m\u001b[38;5;124mOriginal Dictionary\u001b[39m\u001b[38;5;124m\"\u001b[39m)\n\u001b[1;32m     30\u001b[0m \u001b[38;5;28mprint\u001b[39m(d)\n\u001b[0;32m---> 32\u001b[0m d\u001b[38;5;241m.\u001b[39mpop(\u001b[38;5;241m1\u001b[39m)\n",
      "Cell \u001b[0;32mIn[19], line 15\u001b[0m, in \u001b[0;36mMyDict.pop\u001b[0;34m(self, s)\u001b[0m\n\u001b[1;32m     14\u001b[0m \u001b[38;5;28;01mdef\u001b[39;00m \u001b[38;5;21mpop\u001b[39m(\u001b[38;5;28mself\u001b[39m, s \u001b[38;5;241m=\u001b[39m \u001b[38;5;28;01mNone\u001b[39;00m):\n\u001b[0;32m---> 15\u001b[0m     \u001b[38;5;28;01mraise\u001b[39;00m \u001b[38;5;167;01mRuntimeError\u001b[39;00m(\u001b[38;5;124m\"\u001b[39m\u001b[38;5;124mDeletion not allowed\u001b[39m\u001b[38;5;124m\"\u001b[39m)\n",
      "\u001b[0;31mRuntimeError\u001b[0m: Deletion not allowed"
     ]
    }
   ],
   "source": [
    "from collections import UserDict\n",
    " \n",
    "# Creating a Dictionary where\n",
    "# deletion is not allowed\n",
    "class MyDict(UserDict):\n",
    "     \n",
    "    # Function to stop deletion\n",
    "    # from dictionary\n",
    "    def __del__(self):\n",
    "        raise RuntimeError(\"Deletion not allowed\")\n",
    "         \n",
    "    # Function to stop pop from\n",
    "    # dictionary\n",
    "    def pop(self, s = None):\n",
    "        raise RuntimeError(\"Deletion not allowed\")\n",
    "         \n",
    "    # Function to stop popitem\n",
    "    # from Dictionary\n",
    "    def popitem(self, s = None):\n",
    "        raise RuntimeError(\"Deletion not allowed\")\n",
    "     \n",
    "# Driver's code\n",
    "d = MyDict({\n",
    "    'a':1,\n",
    "    'b': 2,\n",
    "    'c': 3\n",
    "})\n",
    " \n",
    "print(\"Original Dictionary\")\n",
    "print(d)\n",
    " \n",
    "d.pop(1)"
   ]
  },
  {
   "cell_type": "markdown",
   "id": "af08c6ce",
   "metadata": {},
   "source": [
    "#### UserList (customize List)\n",
    "###### UserList is a list-like container that acts as a wrapper around the list objects. This is useful when someone wants to create their own list with some modified or additional functionality."
   ]
  },
  {
   "cell_type": "code",
   "execution_count": 20,
   "id": "8596ef7e",
   "metadata": {},
   "outputs": [
    {
     "name": "stdout",
     "output_type": "stream",
     "text": [
      "Original List\n",
      "[1, 2, 3, 4]\n",
      "After Insertion\n",
      "[1, 2, 3, 4, 5]\n"
     ]
    },
    {
     "ename": "RuntimeError",
     "evalue": "Deletion not allowed",
     "output_type": "error",
     "traceback": [
      "\u001b[0;31m---------------------------------------------------------------------------\u001b[0m",
      "\u001b[0;31mRuntimeError\u001b[0m                              Traceback (most recent call last)",
      "Cell \u001b[0;32mIn[20], line 34\u001b[0m\n\u001b[1;32m     31\u001b[0m \u001b[38;5;28mprint\u001b[39m(L)\n\u001b[1;32m     33\u001b[0m \u001b[38;5;66;03m# Deleting From List\u001b[39;00m\n\u001b[0;32m---> 34\u001b[0m L\u001b[38;5;241m.\u001b[39mremove()\n",
      "Cell \u001b[0;32mIn[20], line 15\u001b[0m, in \u001b[0;36mMyList.remove\u001b[0;34m(self, s)\u001b[0m\n\u001b[1;32m     14\u001b[0m \u001b[38;5;28;01mdef\u001b[39;00m \u001b[38;5;21mremove\u001b[39m(\u001b[38;5;28mself\u001b[39m, s \u001b[38;5;241m=\u001b[39m \u001b[38;5;28;01mNone\u001b[39;00m):\n\u001b[0;32m---> 15\u001b[0m     \u001b[38;5;28;01mraise\u001b[39;00m \u001b[38;5;167;01mRuntimeError\u001b[39;00m(\u001b[38;5;124m\"\u001b[39m\u001b[38;5;124mDeletion not allowed\u001b[39m\u001b[38;5;124m\"\u001b[39m)\n",
      "\u001b[0;31mRuntimeError\u001b[0m: Deletion not allowed"
     ]
    }
   ],
   "source": [
    "# Python program to demonstrate\n",
    "# userlist\n",
    " \n",
    " \n",
    "from collections import UserList\n",
    " \n",
    " \n",
    "# Creating a List where\n",
    "# deletion is not allowed\n",
    "class MyList(UserList):\n",
    "     \n",
    "    # Function to stop deletion\n",
    "    # from List\n",
    "    def remove(self, s = None):\n",
    "        raise RuntimeError(\"Deletion not allowed\")\n",
    "         \n",
    "    # Function to stop pop from\n",
    "    # List\n",
    "    def pop(self, s = None):\n",
    "        raise RuntimeError(\"Deletion not allowed\")\n",
    "     \n",
    "# Driver's code\n",
    "L = MyList([1, 2, 3, 4])\n",
    " \n",
    "print(\"Original List\")\n",
    "print(L)\n",
    " \n",
    "# Inserting to List\"\n",
    "L.append(5)\n",
    "print(\"After Insertion\")\n",
    "print(L)\n",
    " \n",
    "# Deleting From List\n",
    "L.remove()"
   ]
  },
  {
   "cell_type": "markdown",
   "id": "dbf9d84d",
   "metadata": {},
   "source": [
    "#### UserString\n",
    "###### UserString is a string-like container and just like UserDict and UserList, it acts as a wrapper around string objects. It is used when someone wants to create their own strings with some modified or additional functionality."
   ]
  },
  {
   "cell_type": "code",
   "execution_count": 1,
   "id": "4f34e8dc",
   "metadata": {},
   "outputs": [
    {
     "name": "stdout",
     "output_type": "stream",
     "text": [
      "Original String: Geeks\n",
      "String After Appending: Geekss\n",
      "String after Removing: Gkss\n"
     ]
    }
   ],
   "source": [
    "from collections import UserString\n",
    " \n",
    "# Creating a Mutable String\n",
    "class Mystring(UserString):\n",
    "     \n",
    "    # Function to append to\n",
    "    # string\n",
    "    def append(self, s):\n",
    "        self.data += s\n",
    "         \n",
    "    # Function to remove from\n",
    "    # string\n",
    "    def remove(self, s):\n",
    "        self.data = self.data.replace(s, \"\")\n",
    "     \n",
    "# Driver's code\n",
    "s1 = Mystring(\"Geeks\")\n",
    "print(\"Original String:\", s1.data)\n",
    " \n",
    "# Appending to string\n",
    "s1.append(\"s\")\n",
    "print(\"String After Appending:\", s1.data)\n",
    " \n",
    "# Removing from string\n",
    "s1.remove(\"e\")\n",
    "print(\"String after Removing:\", s1.data)"
   ]
  },
  {
   "cell_type": "markdown",
   "id": "d0fd4cda",
   "metadata": {},
   "source": [
    "### User-Defined Data Structures"
   ]
  },
  {
   "cell_type": "markdown",
   "id": "832c3639",
   "metadata": {},
   "source": [
    "***\n",
    "#### **Linked List**\n",
    "***\n",
    "##### A linked list is a linear data structure, in which the elements are not stored at contiguous memory locations. The elements in a linked list are linked using pointers as shown in the below image:\n",
    "![alternatvie text](https://media.geeksforgeeks.org/wp-content/cdn-uploads/gq/2013/03/Linkedlist.png)\n"
   ]
  },
  {
   "cell_type": "markdown",
   "id": "c0e574f9",
   "metadata": {},
   "source": [
    "A linked list is represented by a pointer to the first node of the linked list. The first node is called the head. If the linked list is empty, then the value of the head is NULL. Each node in a list consists of at least two parts:\n",
    "\n",
    "Data\n",
    "Pointer (Or Reference) to the next node"
   ]
  },
  {
   "cell_type": "code",
   "execution_count": 2,
   "id": "7a5a20e5",
   "metadata": {},
   "outputs": [],
   "source": [
    "\n",
    "# Node class\n",
    "class Node:\n",
    " \n",
    "    # Function to initialize the node object\n",
    "    def __init__(self, data):\n",
    "        self.data = data # Assign data\n",
    "        self.next = None # Initialize\n",
    "                        # next as null\n",
    " \n",
    "# Linked List class\n",
    "class LinkedList:\n",
    "     \n",
    "    # Function to initialize the Linked\n",
    "    # List object\n",
    "    def __init__(self):\n",
    "        self.head = None"
   ]
  },
  {
   "cell_type": "markdown",
   "id": "2c412acc",
   "metadata": {},
   "source": [
    "Let us create a simple linked list with 3 nodes"
   ]
  },
  {
   "cell_type": "code",
   "execution_count": 3,
   "id": "cfaec800",
   "metadata": {},
   "outputs": [],
   "source": [
    "# A simple Python program to introduce a linked list\n",
    " \n",
    "# Node class\n",
    "class Node:\n",
    " \n",
    "    # Function to initialise the node object\n",
    "    def __init__(self, data):\n",
    "        self.data = data # Assign data\n",
    "        self.next = None # Initialize next as null\n",
    " \n",
    " \n",
    "# Linked List class contains a Node object\n",
    "class LinkedList:\n",
    " \n",
    "    # Function to initialize head\n",
    "    def __init__(self):\n",
    "        self.head = None\n",
    " \n",
    " \n",
    "# Code execution starts here\n",
    "if __name__=='__main__':\n",
    " \n",
    "    # Start with the empty list\n",
    "    list = LinkedList()\n",
    " \n",
    "    list.head = Node(1)\n",
    "    second = Node(2)\n",
    "    third = Node(3)\n",
    " \n",
    "    '''\n",
    "    Three nodes have been created.\n",
    "    We have references to these three blocks as head,\n",
    "    second and third\n",
    " \n",
    "    list.head     second             third\n",
    "        |             |                 |\n",
    "        |             |                 |\n",
    "    +----+------+     +----+------+     +----+------+\n",
    "    | 1 | None |     | 2 | None |     | 3 | None |\n",
    "    +----+------+     +----+------+     +----+------+\n",
    "    '''\n",
    " \n",
    "    list.head.next = second; # Link first node with second\n",
    " \n",
    "    '''\n",
    "    Now next of first Node refers to second. So they\n",
    "    both are linked.\n",
    " \n",
    "    list.head     second             third\n",
    "        |             |                 |\n",
    "        |             |                 |\n",
    "    +----+------+     +----+------+     +----+------+\n",
    "    | 1 | o-------->| 2 | null |     | 3 | null |\n",
    "    +----+------+     +----+------+     +----+------+\n",
    "    '''\n",
    " \n",
    "    second.next = third; # Link second node with the third node\n",
    " \n",
    "    '''\n",
    "     Now next of second Node refers to third. So all three\n",
    "    nodes are linked.\n",
    " \n",
    "    list.head     second             third\n",
    "        |             |                 |\n",
    "        |             |                 |\n",
    "    +----+------+     +----+------+     +----+------+\n",
    "    | 1 | o-------->| 2 | o-------->| 3 | null |\n",
    "    +----+------+     +----+------+     +----+------+\n",
    "    '''"
   ]
  },
  {
   "cell_type": "markdown",
   "id": "2224a1e0",
   "metadata": {},
   "source": [
    "**Linked List Traversal**\n",
    "\n",
    "In the previous program, we have created a simple linked list with three nodes. Let us traverse the created list and print the data of each node. For traversal, let us write a general-purpose function printList() that prints any given list."
   ]
  },
  {
   "cell_type": "code",
   "execution_count": 6,
   "id": "6ace23e4",
   "metadata": {},
   "outputs": [
    {
     "name": "stdout",
     "output_type": "stream",
     "text": [
      "Nodes:  1\n",
      "Nodes:  2\n",
      "Nodes:  3\n"
     ]
    }
   ],
   "source": [
    "# A simple Python program for traversal of a linked list\n",
    " \n",
    "# Node class\n",
    "class Node:\n",
    " \n",
    "    # Function to initialise the node object\n",
    "    def __init__(self, data):\n",
    "        self.data = data # Assign data\n",
    "        self.next = None # Initialize next as null\n",
    " \n",
    " \n",
    "# Linked List class contains a Node object\n",
    "class LinkedList:\n",
    " \n",
    "    # Function to initialize head\n",
    "    def __init__(self):\n",
    "        self.head = None\n",
    " \n",
    "    # This function prints contents of linked list\n",
    "    # starting from head\n",
    "    def printList(self):\n",
    "        temp = self.head\n",
    "        while (temp):\n",
    "            print (\"Nodes: \", temp.data)\n",
    "            temp = temp.next\n",
    "# Code execution starts here\n",
    "if __name__=='__main__':\n",
    " \n",
    "    # Start with the empty list\n",
    "    list = LinkedList()\n",
    " \n",
    "    list.head = Node(1)\n",
    "    second = Node(2)\n",
    "    third = Node(3)\n",
    " \n",
    "    list.head.next = second; # Link first node with second\n",
    "    second.next = third; # Link second node with the third node\n",
    " \n",
    "    list.printList()"
   ]
  },
  {
   "cell_type": "markdown",
   "id": "1c3df515",
   "metadata": {},
   "source": [
    "*** \n",
    "### **Stack**\n",
    "*** \n",
    "A stack is a linear data structure that stores items in a Last-In/First-Out (LIFO) or First-In/Last-Out (FILO) manner. \n",
    "\n",
    "In stack, a new element is added at one end and an element is removed from that end only. \n",
    "\n",
    "The insert and delete operations are often called push and pop.\n",
    "\n",
    "![alternatvie text](https://media.geeksforgeeks.org/wp-content/cdn-uploads/gq/2013/03/stack.png)"
   ]
  },
  {
   "cell_type": "markdown",
   "id": "3c9abf68",
   "metadata": {},
   "source": [
    "#### The functions associated with stack are:\n",
    "\n",
    "* empty() – Returns whether the stack is empty – Time Complexity: O(1)\n",
    "\n",
    "* size() – Returns the size of the stack – Time Complexity: O(1)\n",
    "\n",
    "* top() – Returns a reference to the topmost element of the stack – Time Complexity: O(1)\n",
    "\n",
    "* push(a) – Inserts the element ‘a’ at the top of the stack – Time Complexity: O(1)\n",
    "\n",
    "* pop() – Deletes the topmost element of the stack – Time Complexity: O(1)\n",
    "Python Stack Implementation\n",
    "\n",
    "#### Stack in Python can be implemented using the following ways:\n",
    "\n",
    "* list\n",
    "\n",
    "* Collections.deque\n",
    "\n",
    "* queue.LifoQueue\n",
    "\n",
    "#### Implementation using List\n",
    "\n",
    "Python’s built-in data structure list can be used as a stack. \n",
    "\n",
    "Instead of push(), append() is used to add elements to the top of the stack while pop() removes the element in LIFO order.\n"
   ]
  },
  {
   "cell_type": "code",
   "execution_count": 10,
   "id": "bbffa99b",
   "metadata": {},
   "outputs": [
    {
     "name": "stdout",
     "output_type": "stream",
     "text": [
      "Initial stack: ['g', 'f', 'g']\n",
      "\n",
      "Elements popped from stack:\n",
      "g\n",
      "f\n",
      "g\n",
      "\n",
      "Stack after elements are popped:\n",
      "[]\n"
     ]
    }
   ],
   "source": [
    "stack = []\n",
    " \n",
    "# append() function to push\n",
    "# element in the stack\n",
    "stack.append('g')\n",
    "stack.append('f')\n",
    "stack.append('g')\n",
    " \n",
    "print('Initial stack:', stack)\n",
    " \n",
    "# pop() function to pop\n",
    "# element from stack in\n",
    "# LIFO order\n",
    "print('\\nElements popped from stack:')\n",
    "print(stack.pop())\n",
    "print(stack.pop())\n",
    "print(stack.pop())\n",
    " \n",
    "print('\\nStack after elements are popped:')\n",
    "print(stack)\n",
    " \n",
    "# uncommenting print(stack.pop())\n",
    "# will cause an IndexError\n",
    "# as the stack is now empty"
   ]
  },
  {
   "cell_type": "markdown",
   "id": "69820d44",
   "metadata": {},
   "source": [
    "#### **Implementation using collections.deque:**\n",
    "\n",
    "Python stack can be implemented using the deque class from the collections module. \n",
    "\n",
    "Deque is preferred over the list in the cases where we need quicker append and pop operations from both the ends of the container, as deque provides an O(1) time complexity for append and pop operations as compared to list which provides O(n) time complexity."
   ]
  },
  {
   "cell_type": "code",
   "execution_count": 11,
   "id": "938562ae",
   "metadata": {},
   "outputs": [
    {
     "name": "stdout",
     "output_type": "stream",
     "text": [
      "Initial stack:\n",
      "deque(['g', 'f', 'g'])\n",
      "\n",
      "Elements popped from stack:\n",
      "g\n",
      "f\n",
      "g\n",
      "\n",
      "Stack after elements are popped:\n",
      "deque([])\n"
     ]
    }
   ],
   "source": [
    "from collections import deque\n",
    " \n",
    "stack = deque()\n",
    " \n",
    "# append() function to push\n",
    "# element in the stack\n",
    "stack.append('g')\n",
    "stack.append('f')\n",
    "stack.append('g')\n",
    " \n",
    "print('Initial stack:')\n",
    "print(stack)\n",
    " \n",
    "# pop() function to pop\n",
    "# element from stack in\n",
    "# LIFO order\n",
    "print('\\nElements popped from stack:')\n",
    "print(stack.pop())\n",
    "print(stack.pop())\n",
    "print(stack.pop())\n",
    " \n",
    "print('\\nStack after elements are popped:')\n",
    "print(stack)\n",
    " \n",
    "# uncommenting print(stack.pop())\n",
    "# will cause an IndexError\n",
    "# as the stack is now empty"
   ]
  },
  {
   "cell_type": "markdown",
   "id": "1dc4103d",
   "metadata": {},
   "source": [
    "#### **Implementation using queue module**\n",
    "\n",
    "The queue module also has a LIFO Queue, which is basically a Stack. Data is inserted into Queue using the put() function and get() takes data out from the Queue."
   ]
  },
  {
   "cell_type": "code",
   "execution_count": 14,
   "id": "c98086cd",
   "metadata": {},
   "outputs": [
    {
     "name": "stdout",
     "output_type": "stream",
     "text": [
      "Initial Size:  0\n",
      "Full:  True\n",
      "Size:  3\n",
      "\n",
      "Elements popped from the stack\n",
      "g\n",
      "f\n",
      "g\n",
      "\n",
      "Empty:  True\n"
     ]
    }
   ],
   "source": [
    "from queue import LifoQueue\n",
    " \n",
    "# Initializing a stack\n",
    "stack = LifoQueue(maxsize = 3)\n",
    " \n",
    "# qsize() show the number of elements\n",
    "# in the stack, initially empty here\n",
    "print(\"Initial Size: \", stack.qsize())\n",
    " \n",
    "# put() function to push\n",
    "# element in the stack\n",
    "stack.put('g')\n",
    "stack.put('f')\n",
    "stack.put('g')\n",
    " \n",
    "print(\"Full: \", stack.full())\n",
    "print(\"Size: \", stack.qsize())\n",
    " \n",
    "# get() function to pop\n",
    "# element from stack in\n",
    "# LIFO order\n",
    "print('\\nElements popped from the stack')\n",
    "print(stack.get())\n",
    "print(stack.get())\n",
    "print(stack.get())\n",
    " \n",
    "print(\"\\nEmpty: \", stack.empty())"
   ]
  },
  {
   "cell_type": "markdown",
   "id": "64d8875d",
   "metadata": {},
   "source": [
    "***\n",
    "### Queue\n",
    "***\n",
    "\n",
    "As a stack, the queue is a linear data structure that stores items in a First In First Out (FIFO) manner.\n",
    "With a queue, the least recently added item is removed first. \n",
    "A good example of the queue is any queue of consumers for a resource where the consumer that came first is served first.\n",
    "\n",
    "\n",
    "![Alternate text](https://media.geeksforgeeks.org/wp-content/cdn-uploads/gq/2014/02/Queue.png)\n",
    "\n",
    "#### **Operations associated with queue are:**\n",
    "\n",
    "Enqueue: Adds an item to the queue. \n",
    "\n",
    "If the queue is full, then it is said to be an Overflow condition – Time Complexity: O(1)\n",
    "\n",
    "Dequeue: Removes an item from the queue. \n",
    "\n",
    "The items are popped in the same order in which they are pushed. \n",
    "\n",
    "If the queue is empty, then it is said to be an Underflow condition – Time Complexity: O(1)\n",
    "\n",
    "Front: Get the front item from queue – Time Complexity: O(1)\n",
    "\n",
    "Rear: Get the last item from queue – Time Complexity: O(1)\n",
    "\n",
    "\n",
    "#### **Python queue Implementation**\n",
    "\n",
    "Queue in Python can be implemented in the following ways:\n",
    "\n",
    "• list\n",
    "\n",
    "• collections.deque\n",
    "\n",
    "• queue.Queue\n",
    "\n",
    "\n",
    "#### **Implementation using list**\n",
    "\n",
    "Instead of enqueue() and dequeue(), append() and pop() function is used."
   ]
  },
  {
   "cell_type": "code",
   "execution_count": 1,
   "id": "0f9d32e3",
   "metadata": {},
   "outputs": [
    {
     "name": "stdout",
     "output_type": "stream",
     "text": [
      "Initial queue\n",
      "['g', 'f', 'g']\n",
      "\n",
      "Elements dequeued from queue\n",
      "g\n",
      "f\n",
      "g\n",
      "\n",
      "Queue after removing elements\n",
      "[]\n"
     ]
    }
   ],
   "source": [
    "# Initializing a queue\n",
    "queue = []\n",
    " \n",
    "# Adding elements to the queue\n",
    "queue.append('g')\n",
    "queue.append('f')\n",
    "queue.append('g')\n",
    " \n",
    "print(\"Initial queue\")\n",
    "print(queue)\n",
    " \n",
    "# Removing elements from the queue\n",
    "print(\"\\nElements dequeued from queue\")\n",
    "print(queue.pop(0))\n",
    "print(queue.pop(0))\n",
    "print(queue.pop(0))\n",
    " \n",
    "print(\"\\nQueue after removing elements\")\n",
    "print(queue)\n",
    " \n",
    "# Uncommenting print(queue.pop(0))\n",
    "# will raise and IndexError\n",
    "# as the queue is now empty"
   ]
  },
  {
   "cell_type": "markdown",
   "id": "1951154c",
   "metadata": {},
   "source": [
    "Implementation using collections.deque\n",
    "\n",
    "Deque is preferred over the list in the cases where we need quicker append and pop operations from both the ends of the container, as deque provides an O(1) time complexity for append and pop operations as compared to list which provides O(n) time complexity."
   ]
  },
  {
   "cell_type": "code",
   "execution_count": null,
   "id": "efec5908",
   "metadata": {},
   "outputs": [],
   "source": [
    "from collections import deque\n",
    " \n",
    "# Initializing a queue\n",
    "q = deque()\n",
    " \n",
    "# Adding elements to a queue\n",
    "q.append('g')\n",
    "q.append('f')\n",
    "q.append('g')\n",
    " \n",
    "print(\"Initial queue\")\n",
    "print(q)\n",
    " \n",
    "# Removing elements from a queue\n",
    "print(\"\\nElements dequeued from the queue\")\n",
    "print(q.popleft())\n",
    "print(q.popleft())\n",
    "print(q.popleft())\n",
    " \n",
    "print(\"\\nQueue after removing elements\")\n",
    "print(q)\n",
    " \n",
    "# Uncommenting q.popleft()\n",
    "# will raise an IndexError\n",
    "# as queue is now empty"
   ]
  },
  {
   "cell_type": "markdown",
   "id": "db4a1d52",
   "metadata": {},
   "source": [
    "Implementation using the queue.Queue\n",
    "\n",
    "queue.Queue(maxsize) initializes a variable to a maximum size of maxsize. A maxsize of zero ‘0’ means an infinite queue. This Queue follows the FIFO rule."
   ]
  },
  {
   "cell_type": "code",
   "execution_count": null,
   "id": "bcaa94bb",
   "metadata": {},
   "outputs": [],
   "source": [
    "from queue import Queue\n",
    " \n",
    "# Initializing a queue\n",
    "q = Queue(maxsize = 3)\n",
    " \n",
    "# qsize() give the maxsize\n",
    "# of the Queue\n",
    "print(q.qsize())\n",
    " \n",
    "# Adding of element to queue\n",
    "q.put('g')\n",
    "q.put('f')\n",
    "q.put('g')\n",
    " \n",
    "# Return Boolean for Full\n",
    "# Queue\n",
    "print(\"\\nFull: \", q.full())\n",
    " \n",
    "# Removing element from queue\n",
    "print(\"\\nElements dequeued from the queue\")\n",
    "print(q.get())\n",
    "print(q.get())\n",
    "print(q.get())\n",
    " \n",
    "# Return Boolean for Empty\n",
    "# Queue\n",
    "print(\"\\nEmpty: \", q.empty())\n",
    " \n",
    "q.put(1)\n",
    "print(\"\\nEmpty: \", q.empty())\n",
    "print(\"Full: \", q.full())\n",
    " \n",
    "# This would result into Infinite\n",
    "# Loop as the Queue is empty.\n",
    "# print(q.get())"
   ]
  },
  {
   "cell_type": "markdown",
   "id": "e8937de4",
   "metadata": {},
   "source": [
    "Priority Queue\n",
    "Priority Queues are abstract data structures where each data/value in the queue has a certain priority. For example, In airlines, baggage with the title “Business” or “First-class” arrives earlier than the rest. Priority Queue is an extension of the queue with the following properties.\n",
    "\n",
    "An element with high priority is dequeued before an element with low priority.\n",
    "If two elements have the same priority, they are served according to their order in the queue."
   ]
  },
  {
   "cell_type": "code",
   "execution_count": null,
   "id": "908530fd",
   "metadata": {},
   "outputs": [],
   "source": [
    " A simple implementation of Priority Queue\n",
    "# using Queue.\n",
    "class PriorityQueue(object):\n",
    "    def __init__(self):\n",
    "        self.queue = []\n",
    " \n",
    "    def __str__(self):\n",
    "        return ' '.join([str(i) for i in self.queue])\n",
    " \n",
    "    # for checking if the queue is empty\n",
    "    def isEmpty(self):\n",
    "        return len(self.queue) == 0\n",
    " \n",
    "    # for inserting an element in the queue\n",
    "    def insert(self, data):\n",
    "        self.queue.append(data)\n",
    " \n",
    "    # for popping an element based on Priority\n",
    "    def delete(self):\n",
    "        try:\n",
    "            max = 0\n",
    "            for i in range(len(self.queue)):\n",
    "                if self.queue[i] > self.queue[max]:\n",
    "                    max = i\n",
    "            item = self.queue[max]\n",
    "            del self.queue[max]\n",
    "            return item\n",
    "        except IndexError:\n",
    "            print()\n",
    "            exit()\n",
    " if __name__ == '__main__':\n",
    "        myQueue = PriorityQueue()\n",
    "    myQueue.insert(12)\n",
    "    myQueue.insert(1)\n",
    "    myQueue.insert(14)\n",
    "    myQueue.insert(7)\n",
    "    print(myQueue)           \n",
    "    while not myQueue.isEmpty():\n",
    "        print(myQueue.delete())"
   ]
  },
  {
   "cell_type": "markdown",
   "id": "cd0ea88b",
   "metadata": {},
   "source": [
    "Heap queue (or heapq)\n",
    "heapq module in Python provides the heap data structure that is mainly used to represent a priority queue. The property of this data structure in Python is that each time the smallest heap element is popped(min-heap). Whenever elements are pushed or popped, heap structure is maintained. The heap[0] element also returns the smallest element each time. \n",
    "\n",
    "It supports the extraction and insertion of the smallest element in the O(log n) times."
   ]
  },
  {
   "cell_type": "code",
   "execution_count": null,
   "id": "1d2e2afa",
   "metadata": {},
   "outputs": [],
   "source": [
    "# importing \"heapq\" to implement heap queue\n",
    "import heapq\n",
    " \n",
    "# initializing list\n",
    "li = [5, 7, 9, 1, 3]\n",
    " \n",
    "# using heapify to convert list into heap\n",
    "heapq.heapify(li)\n",
    " \n",
    "# printing created heap\n",
    "print (\"The created heap is : \",end=\"\")\n",
    "print (list(li))\n",
    " \n",
    "# using heappush() to push elements into heap\n",
    "# pushes 4\n",
    "heapq.heappush(li,4)\n",
    " \n",
    "# printing modified heap\n",
    "print (\"The modified heap after push is : \",end=\"\")\n",
    "print (list(li))\n",
    " \n",
    "# using heappop() to pop smallest element\n",
    "print (\"The popped and smallest element is : \",end=\"\")\n",
    "print (heapq.heappop(li))"
   ]
  },
  {
   "cell_type": "markdown",
   "id": "9f70d6f7",
   "metadata": {},
   "source": [
    "Binary Tree\n",
    "A tree is a  hierarchical data structure that looks like the below figure – \n",
    "\n",
    "          tree\n",
    "          ----\n",
    "          j    <-- root\n",
    "        /   \\\n",
    "        f      k  \n",
    "      /   \\      \\\n",
    "      a     h      z    <-- leaves\n",
    "\n",
    "The topmost node of the tree is called the root whereas the bottommost nodes or the nodes with no children are called the leaf nodes. The nodes that are directly under a node are called its children and the nodes that are directly above something are called its parent.\n",
    "\n",
    "A binary tree is a tree whose elements can have almost two children. Since each element in a binary tree can have only 2 children, we typically name them the left and right children. A Binary Tree node contains the following parts.\n",
    "\n",
    "Data\n",
    "Pointer to left child\n",
    "Pointer to the right child"
   ]
  },
  {
   "cell_type": "code",
   "execution_count": null,
   "id": "93d7e8ea",
   "metadata": {},
   "outputs": [],
   "source": [
    "# A Python class that represents an individual node\n",
    "# in a Binary Tree\n",
    "class Node:\n",
    "    def __init__(self,key):\n",
    "        self.left = None\n",
    "        self.right = None\n",
    "        self.val = key"
   ]
  },
  {
   "cell_type": "markdown",
   "id": "0fbf1b88",
   "metadata": {},
   "source": [
    "Now let’s create a tree with 4 nodes in Python. Let’s assume the tree structure looks like below – \n",
    "\n",
    "        tree\n",
    "        ----\n",
    "          1    <-- root\n",
    "        /   \\\n",
    "       2     3  \n",
    "     /  \n",
    "    4"
   ]
  },
  {
   "cell_type": "code",
   "execution_count": null,
   "id": "2974c20e",
   "metadata": {},
   "outputs": [],
   "source": [
    "# Python program to introduce Binary Tree\n",
    " \n",
    "# A class that represents an individual node in a\n",
    "# Binary Tree\n",
    "class Node:\n",
    "    def __init__(self,key):\n",
    "        self.left = None\n",
    "        self.right = None\n",
    "        self.val = key\n",
    " \n",
    " \n",
    "# create root\n",
    "root = Node(1)\n",
    "''' following is the tree after above statement\n",
    "        1\n",
    "    / \\\n",
    "    None None'''\n",
    " \n",
    "root.left     = Node(2);\n",
    "root.right     = Node(3);\n",
    " \n",
    "''' 2 and 3 become left and right children of 1\n",
    "        1\n",
    "        / \\\n",
    "        2     3\n",
    "    / \\ / \\\n",
    "None None None None'''\n",
    "\n",
    "\n",
    " \n",
    "root.left.left = Node(4);\n",
    "'''4 becomes left child of 2\n",
    "        1\n",
    "    /     \\\n",
    "    2         3\n",
    "    / \\     / \\\n",
    "4 None None None\n",
    "/ \\\n",
    "None None'''"
   ]
  }
 ],
 "metadata": {
  "kernelspec": {
   "display_name": "Python 3.10.6 64-bit",
   "language": "python",
   "name": "python3"
  },
  "language_info": {
   "codemirror_mode": {
    "name": "ipython",
    "version": 3
   },
   "file_extension": ".py",
   "mimetype": "text/x-python",
   "name": "python",
   "nbconvert_exporter": "python",
   "pygments_lexer": "ipython3",
   "version": "3.10.6"
  },
  "vscode": {
   "interpreter": {
    "hash": "aee8b7b246df8f9039afb4144a1f6fd8d2ca17a180786b69acc140d282b71a49"
   }
  }
 },
 "nbformat": 4,
 "nbformat_minor": 5
}
